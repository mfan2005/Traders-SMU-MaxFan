{
  "metadata": {
    "kernelspec": {
      "name": "python",
      "display_name": "Python (Pyodide)",
      "language": "python"
    },
    "language_info": {
      "codemirror_mode": {
        "name": "ipython",
        "version": 3
      },
      "file_extension": ".py",
      "mimetype": "text/x-python",
      "name": "python",
      "nbconvert_exporter": "python",
      "pygments_lexer": "ipython3",
      "version": "3.12.4"
    }
  },
  "nbformat_minor": 5,
  "nbformat": 4,
  "cells": [
    {
      "id": "d6b3e273-5467-4102-856e-c0bc4739deb6",
      "cell_type": "markdown",
      "source": "# Traders@SMU L1 Week 3 Economic Analysis with Python Libraries for Assets Data Presentation Mini Project - Created by Julian Cabrera ",
      "metadata": {}
    },
    {
      "id": "fb6be443-ebba-49f8-8651-d960a2c64fef",
      "cell_type": "markdown",
      "source": "## Your Goal for this Mini Project Assigment is to analyze Economic Events from the Dow Jones Industrial Average(DJIA) and Sectors of the S&P500 ETF.\n\n## You will gather and manupulate Data/Prices using **yfinance, pandas, numpy, & matplotlib.** \n\n## Then you will make Economic conclusions and insights on the data. ",
      "metadata": {}
    },
    {
      "id": "8d851563-ce81-4bca-a854-644e821a3da4",
      "cell_type": "markdown",
      "source": "### **Refer to the Week 3 Asset Class Lecture Notebook as Guide for help & troubelshooting**",
      "metadata": {}
    },
    {
      "id": "6c1a9db3-a2bc-49d9-8ca8-ef6264cb5b4e",
      "cell_type": "markdown",
      "source": "## Part 1 : Analyzing the DJIA as an Economic Indicator ",
      "metadata": {}
    },
    {
      "id": "90376da8-01a9-4478-9458-8b19b412c480",
      "cell_type": "markdown",
      "source": "### Step 1 - Import all Necessary Libraries & run cell: yfinance, numpy, pandas, matplotlib.pyplot. **Use alias**",
      "metadata": {}
    },
    {
      "id": "ceb96b39-e98e-4306-adc4-d7c0a8397b43",
      "cell_type": "code",
      "source": "# Import here\n\nimport yfinance as yf\n\nimport pandas as pd\n\nimport numpy as np\n\nimport matplotlib.pyplot as plt\n\n",
      "metadata": {
        "trusted": true
      },
      "outputs": [],
      "execution_count": null
    },
    {
      "id": "b57de3c4-89b1-4197-83e8-6c48973e5568",
      "cell_type": "markdown",
      "source": "### Step 2 - Extract DJIA data from your the yfinance libary and set into into a dataframe(df) ",
      "metadata": {}
    },
    {
      "id": "89b1594a-26bd-4a75-9638-8906fa9f8324",
      "cell_type": "code",
      "source": "# Complete Step 1 Here\n\ndjia = yf.download(\"^DJI\", start=\"2020-01-01\", end=\"2025-01-01\")",
      "metadata": {
        "trusted": true
      },
      "outputs": [],
      "execution_count": null
    },
    {
      "id": "b4f3cf0f-c21b-4013-8c98-47abfe03c85f",
      "cell_type": "markdown",
      "source": "### Step 3 - Now create a dataframe to just show DJIA Closing Prices \n",
      "metadata": {}
    },
    {
      "id": "79091a25-c1dd-414e-81a0-b748ca520283",
      "cell_type": "code",
      "source": "# Only Show Closing Prices \n\ndjia_close = djia[[\"Close\"]]\ndjia_close.head()",
      "metadata": {},
      "outputs": [],
      "execution_count": 3
    },
    {
      "id": "0a24e977-5c00-483c-aabe-e8f5fa708bbc",
      "cell_type": "markdown",
      "source": "### Step 4 - Show the first 5 trading days of the DJIA Dataframe to validate Dataframe",
      "metadata": {}
    },
    {
      "id": "f6012412-c640-4bb1-a128-4cbed7cf6598",
      "cell_type": "code",
      "source": "# Use the head method \n\ndjia_close.head()",
      "metadata": {},
      "outputs": [],
      "execution_count": 4
    },
    {
      "id": "3a154189-0978-43ca-bca4-9e0ed329f0a1",
      "cell_type": "markdown",
      "source": "### Step 5 - Using Matplotlib.pyploy, plot a Line Plot of Historical Closing Prices of the DJIA Dataframe \n\n#### Include a title, xlabel, & ylabel",
      "metadata": {}
    },
    {
      "id": "1b1748ea-70ec-484c-9924-137e3dde88f9",
      "cell_type": "code",
      "source": "# Plot a Line Plot of Historical Prices of the DJIA Dataframe \n\nplt.figure(figsize=(12,6))\nplt.plot(djia_close.index, djia_close['Close'], label='DJIA Closing Price')\nplt.title('Historical DJIA Closing Prices')\nplt.xlabel('Date')\nplt.ylabel('Closing Price (USD)')\nplt.grid(True)\nplt.legend()\nplt.show()",
      "metadata": {},
      "outputs": [],
      "execution_count": 5
    },
    {
      "id": "15d0d943-5640-452a-b9ff-0bd8d4af4dac",
      "cell_type": "markdown",
      "source": "### Step 6 - Compute Daily Returns/Changes of DJIA \n\n#### 1. Use the .values & .flatten() methods to initialize and manipulate numpy array\n\n#### 2. Use the daily returns formula to calculate changes \n\n#### 3. Print daily returns",
      "metadata": {}
    },
    {
      "id": "02a51f06-81cd-4399-857c-d06a534749f8",
      "cell_type": "code",
      "source": "# Compute Daily Returns here \n\nclosing_prices = djia_close['Close'].values.flatten()\n\ndaily_returns = (closing_prices[1:] - closing_prices[:-1]) / closing_prices[:-1]\n\nprint(daily_returns[:5])",
      "metadata": {},
      "outputs": [],
      "execution_count": 6
    },
    {
      "id": "3e52f261-ed79-450f-9982-f49890992efd",
      "cell_type": "markdown",
      "source": "### Step 7 - Create an New Dataframe with Closing Prices, 50 Day rolling Moving Average of Prices , & 200 Day rolling Moving Average of Prices\n\n#### First, multiply the Daily Returns Array by 100 to get in percent form\n\n#### Second, initialize a New Dataframe using the Daily Returns Array & the pdf.DataFrame method \n\n#### Third, add in columns in the New Dataframe that represent 50 Day rolling Moving Average, & 200 Day rolling Moving Average using the .rolling, .mean() & the .shift(1) methods.\n\n#### &nbsp;&nbsp;&nbsp;&nbsp;      **Hint for Rolling Moving Average Initialization is shown in cell below.**\n",
      "metadata": {}
    },
    {
      "id": "d0a85434-6175-4b16-a7b4-629d26df0218",
      "cell_type": "code",
      "source": "# df['x Day MA'] = df['Close'].rolling(window= #_days).mean().shift(1)",
      "metadata": {},
      "outputs": [],
      "execution_count": 7
    },
    {
      "id": "b84b6035-193a-4686-9e51-054175c9e502",
      "cell_type": "code",
      "source": "# Multiply the daily Returns by 100 to get in percent form Now Create 50 Day and 200 Day moving Averages for the DJIA Prices and return 50 Day 200 Day and Daily Returns into a Dataframe\n\ndaily_returns_pct = daily_returns * 100\n\nnew_df = djia_close.iloc[1:].copy()\nnew_df['Daily Return (%)'] = daily_returns_pct\n\nnew_df['50-Day MA'] = new_df['Close'].rolling(window=50).mean()\nnew_df['200-Day MA'] = new_df['Close'].rolling(window=200).mean()\n\nnew_df.head()\n",
      "metadata": {},
      "outputs": [],
      "execution_count": 8
    },
    {
      "id": "e56b33de-6b09-4b6f-a0b2-c1bc6af190d6",
      "cell_type": "markdown",
      "source": "### Step 8 - Using Matplotlib.pyplot Make a Plot having 50 days MA, 200 MA, and Closing Prices all on the same plot. Make sure each line is a different color to differentiate\n\n#### Include a title, xlabel, ylabel, & legend\n\n#### &nbsp;&nbsp; **Hint: You should use the plt.plot() method twice to graph two seperate Rolling Moving Averages**",
      "metadata": {}
    },
    {
      "id": "94898fe3-9011-4bfb-9d40-86577863bd04",
      "cell_type": "code",
      "source": "# Plot in this Cell\n\nplt.plot(new_df.index, new_df['Close'], label='Closing Price', color='blue')\nplt.plot(new_df.index, new_df['50-Day MA'], label='50 Day MA', color='orange')\nplt.plot(new_df.index, new_df['200-Day MA'], label='200-Day MA', color='green')\n\nplt.title('DJIA: Closing Prices with 50 & 200-Day Moving Averages')\nplt.xlabel('Date')\nplt.ylabel('Price (USD)')\nplt.legend()\nplt.grid(True)\nplt.show()",
      "metadata": {},
      "outputs": [],
      "execution_count": 9
    },
    {
      "id": "e3c5743d-969d-408a-bc25-1f5ffef4adcb",
      "cell_type": "markdown",
      "source": "## Read:\n\n### Golden Cross (Bullish Signal): Occurs when the 50-Day Moving Average(Short-Term) crosses above the the 200 day Moving Average(Long-Term). This is an indicator of a potential long-term uptrend. It often suggests increasing bullish momemntun as short-term buying pressure increases often signaling economic recovery, positive corporate earnings, or supportive monetary policy.\n\n### Death Cross (Bearish Signal): Occurs when the 50-day Moving Average(Short-Term Trend) crosses below the 200-day Moving Average(Long-Term Trend). This is an indicator of a Potential long-term downtrend. It often suggests bearish sentiment, often due to economic slowdowns, recessions, or financial crise signalling panic selling events and market corrections.\n\n",
      "metadata": {}
    },
    {
      "id": "cc72f89c-9078-4b29-8c1c-bec99aecb253",
      "cell_type": "markdown",
      "source": "### Step 9 - Identify 2 Historic Financial Events that are represented by each a Golden Cross & Death Cross. Go into detail descrbing dates, price levels, and Macroeconomic indicators like umemployment rate, GDP, Inflation, & Interest Rates. Answer  should be at least 5 sentences. \n\n#### Answer Below using # Comments & conduct your own online Research to answer if needed.",
      "metadata": {}
    },
    {
      "id": "539c08fd-026a-4591-9433-1b026c7cd625",
      "cell_type": "code",
      "source": "# Answer here \n\nIn May of 2020, a Golden Cross was shown after the COVID-19 market crash in March of the same year. The 50-Day moving average crossed above the 200-day moving average as markets rebounded due to policies passed by the Fed. The Fed declared an almost 0% interest rate and passed other government programs. In March, the DJIA dropped down 18.500 points, but as a result of the Fed's action, it climbed to over 25,000 in May. This caused an increase in consumer sentiment and caused better than expected earnings which helped contribute to the bull move. \nIn March of 2022, the DJIA formed a Death Cross when the 50-day moving average dropped below the 200-day moving average. Due to the tightening Fed policy, rising inflation, and the Russia-Ukraine war, the DJIA dropped over 3000 points in 2-3 months. Due to the slowing GDP growth and high inflation rate of over 7%, bearish sentiment was shown and caused a rapid decline in the DJIA",
      "metadata": {},
      "outputs": [],
      "execution_count": 10
    },
    {
      "id": "980c3c15-8f67-45ac-ae1f-a5c4e5b4a858",
      "cell_type": "markdown",
      "source": "## Part 2 : Analyzing & Comparing the S&P 500 ETF Tech Sector(XLK) vs Finance Sector(XLF)",
      "metadata": {}
    },
    {
      "id": "5012573b-2687-49b8-aa0a-54b834f76f91",
      "cell_type": "markdown",
      "source": "### Step 1 - Use yfinance to import both datasets & prices for XLK and XLF by creating two different Dataframe(df) for each ",
      "metadata": {}
    },
    {
      "id": "9a64c175-c763-4e42-9be9-2268f42ca5f4",
      "cell_type": "code",
      "source": "# import data and create dataframes here\n\nxlk = yf.download(\"XLK\", start=\"2020-01-01\", end=\"2025,01-01\")\nxlf = yf.download(\"XLF\", start=\"2020-01-01\", end=\"2025-01-01\")",
      "metadata": {
        "trusted": true
      },
      "outputs": [],
      "execution_count": null
    },
    {
      "id": "5d456720-fd3e-4e66-95b8-988e8a60c12c",
      "cell_type": "markdown",
      "source": "### Step 2 - Print out the first 5 Trading Days of XLF using the .head() method ",
      "metadata": {}
    },
    {
      "id": "3c48ffac-67b3-4931-adbd-9acd1b50905d",
      "cell_type": "code",
      "source": "# print here\n\nxlf.head()",
      "metadata": {},
      "outputs": [],
      "execution_count": 12
    },
    {
      "id": "638a8cbe-be11-4df2-a110-2cc27aa2f2ea",
      "cell_type": "markdown",
      "source": "### Step 3 - Print out the first 5 Trading Days of XLF using the .head() method ",
      "metadata": {}
    },
    {
      "id": "5a7d683b-f2e1-4d36-ae3f-0b5fd89074d1",
      "cell_type": "code",
      "source": "# print here\n\nxlk.head()",
      "metadata": {},
      "outputs": [],
      "execution_count": 13
    },
    {
      "id": "2b2d3f37-b376-4086-be99-b47529c562d4",
      "cell_type": "markdown",
      "source": "### Step 4 - Using Matplotlib.pyplt, plot the Closing Prices of each XLK and XLF on a the same Line Plot for Further Analysis\n\n#### Include a title, xlabel, ylabel, legend, & grid",
      "metadata": {}
    },
    {
      "id": "4eb26160-13ff-45bb-9e08-d8ed44bb6c16",
      "cell_type": "code",
      "source": "# Insert Plot Here \n\nplt.figure(figsize=(14,7))\n\nplt.plot(xlk.index, xlk[\"Close\"], label=\"XLK (Tech Sector)\", color='purple')\nplt.plot(xlf.index, xlf[\"Close\"], label=\"XLF (Finance Sector)\", color='darkgreen')\n\nplt.title(\"Comparison of Tech (XLK) vs Finance (XLF) Sector ETF Closing Prices\")\nplt.xlabel(\"Date\")\nplt.ylabel(\"Closing Price (USD)\")\nplt.legend()\nplt.grid(True)\nplt.show()",
      "metadata": {},
      "outputs": [],
      "execution_count": 14
    },
    {
      "id": "34837a91-58e7-4fed-b353-938a24058f65",
      "cell_type": "markdown",
      "source": "### Step 5 - How did both Sectors perform during the Dot-com bubble (1999-2002)? What do you think caused both Sector's Price Behavior? Be Specifc with Dates, Company Names, and write at least 3 sentences \n\n#### Answer below in # Comments & conduct your own online Research to answer if needed.\n",
      "metadata": {}
    },
    {
      "id": "fb52807a-25ad-4f12-a608-ff340726f0a7",
      "cell_type": "code",
      "source": "# Answer here \n\nDuring the Dot.com bubble (1999-2000), the Tech sector saw a massive surge due to investors being excited about Internet based companies like Intel and Cisco.",
      "metadata": {},
      "outputs": [],
      "execution_count": 15
    },
    {
      "id": "93d0729b-59f4-4440-89bf-da61d81189f5",
      "cell_type": "markdown",
      "source": "### Step 6 - What specific trends have caused the increasing Divergence in XLF and XLK? Be specific and write at least 3 sentences \n\n#### Answer below in # Comments & conduct your own online Research to answer if needed.",
      "metadata": {}
    },
    {
      "id": "e0167f8d-d200-42d4-a9c1-1271ffe3374e",
      "cell_type": "code",
      "source": "# Answer here \nSince the 2008 Financial crisis, XLK outperformed the XLF due to companies like Apple and Microsoft. The economy experienced a lot of digitilization which created a larger demand for XLK stocks.\n",
      "metadata": {},
      "outputs": [],
      "execution_count": 16
    }
  ]
}