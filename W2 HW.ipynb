{
  "metadata": {
    "kernelspec": {
      "name": "python",
      "display_name": "Python (Pyodide)",
      "language": "python"
    },
    "language_info": {
      "codemirror_mode": {
        "name": "ipython",
        "version": 3
      },
      "file_extension": ".py",
      "mimetype": "text/x-python",
      "name": "python",
      "nbconvert_exporter": "python",
      "pygments_lexer": "ipython3",
      "version": "3.12.4"
    }
  },
  "nbformat_minor": 5,
  "nbformat": 4,
  "cells": [
    {
      "id": "fb9eff36-7e33-4598-8685-78489fbd5ccf",
      "cell_type": "markdown",
      "source": "# Traders@SMU L1 Week 2 Python Homework ",
      "metadata": {}
    },
    {
      "id": "2d19ddb5-c234-4ce5-8377-7b169e1d05d4",
      "cell_type": "markdown",
      "source": "### Exercise 1: Data Collection and Basic Operations\n### Topics Used: For Loops, Indexing, Lists, Operations, Variables",
      "metadata": {}
    },
    {
      "id": "b0b81eed-377b-46da-814f-10f0292dc64c",
      "cell_type": "markdown",
      "source": "#### 1. You are given a list of daily closing prices for a stock over 5 days: [100.5, 102.3, 99.8, 103.7, 101.2].\n\n#### 2. Store this list in a variable called stock_prices.\n#### 3. Calculate the daily returns for each day (return = (current_price - previous_price) / previous_price) and store them in a new list called daily_returns.\n#### 4. Print the daily_returns list.",
      "metadata": {}
    },
    {
      "id": "dd1b8bf2-51a2-4bba-9dc9-fac019889457",
      "cell_type": "code",
      "source": "stock_prices = [100.5, 102.3, 99.8, 103.7, 101.2]\n\ndaily_returns = [(stock_prices[x] - stock_prices[x - 1]) / stock_prices[x - 1] for x in range(1, len(stock_prices))]\n\nprint(\"Daily Returns:\", daily_returns)\n",
      "metadata": {
        "trusted": true
      },
      "outputs": [],
      "execution_count": null
    },
    {
      "id": "c8175f9d-6783-4290-9b38-caf6bb2c360a",
      "cell_type": "markdown",
      "source": "### Exercise 2: Boolean Logic and Price Threshold Check\n\n#### Using stock_prices from Exercise 1, create price_checks with True if the price (from second day) is above $101.50, False otherwise.\n#### Print price_checks. Should output a list of True/False Booleans",
      "metadata": {}
    },
    {
      "id": "eae4d600-56b0-428d-8129-c406e5d76f01",
      "cell_type": "code",
      "source": "price_checks = [price > 101.50 for price in stock_prices[1:]]\n",
      "metadata": {
        "trusted": true
      },
      "outputs": [],
      "execution_count": null
    },
    {
      "id": "7da4549b-31e3-44bb-bb73-cd080fee5983",
      "cell_type": "markdown",
      "source": "### Exercise 3: Loops and Trading Signals\n\n#### Using stock_prices, create signals (\"Buy\" if >2% increase, \"Sell\" if <-2% decrease, \"Hold\" otherwise).\n#### Break on \"Sell\".\n#### Print signals and break message.",
      "metadata": {}
    },
    {
      "id": "f4acd7d3-1c8f-4598-a148-665b870b8b62",
      "cell_type": "code",
      "source": "for return_value in daily_returns:\n    if return_value > 0.02:\n        signals.append(\"Buy\")\n    elif return_value < -0.02:\n        signals.append(\"Sell\")\n        break\n    else:\n        signals.append(\"Hold\")\n                       ",
      "metadata": {
        "trusted": true
      },
      "outputs": [],
      "execution_count": null
    },
    {
      "id": "baa5d0b9-78ba-4286-a678-dd0560511920",
      "cell_type": "markdown",
      "source": "### Exercise 4: Functions Trading Strategy \n\n#### Create your own personal Trading Strategy using a function \n\n#### Only Requirements are to use at least 1 functions and use at least 3 technical/signal indicators\n\n#### Print the Results of your Function ",
      "metadata": {}
    },
    {
      "id": "8187fc9b-f9e2-4a05-9d08-6c581c709c9f",
      "cell_type": "code",
      "source": "print(\"Trading Signals:\", signals)\nprint(\"3-Day Moving Averages (starting from day 3):\", moving_averages)\nprint(\"Volume Trend:\", volume_trend)",
      "metadata": {
        "trusted": true
      },
      "outputs": [],
      "execution_count": null
    },
    {
      "id": "4bc3cc32-8134-4131-9015-86736eaec0c0",
      "cell_type": "markdown",
      "source": "### Final Challenge Exercise 5: Object-Oriented Programming - Advanced Trading Strategy Class\n\n#### Build an advanced TradingStrategy class to simulate a stock trading system with detailed tracking and reporting. Follow these steps:\n\n#### 1. Set up the class with:\n#### &nbsp;A name for the strategy.\n#### &nbsp;A list for stock prices.\n#### &nbsp;A list for trading signals.\n#### &nbsp;A list to record trades.\n#### &nbsp;Variables for cash (start with $10,000) and shares (start with 0).\n#### &nbsp;A fixed number of shares to trade each time (e.g., 10).\n#### 2. Create a method to add a new stock price to the class.\n#### 3. Create a method to generate trading signals:\n#### &nbsp;Compare each price to the previous one.\n#### &nbsp;Use a 2% increase for \"Buy,\" a 2% decrease for \"Sell,\" and anything else for \"Hold.\"\n#### 4. Create a method to execute trades based on signals:\n#### &nbsp;For \"Buy,\" purchase shares if cash allows, updating cash and shares.\n#### &nbsp;For \"Sell,\" sell all shares if any are owned, updating cash and shares.\n#### &nbsp;Record each trade as a tuple with price, action, and shares traded.\n#### 5. Create a method to calculate the total portfolio value using the latest price.\n#### 6. Create a method to provide a summary including:\n#### &nbsp;Strategy name, signals, trades, final cash, shares owned, and total portfolio value.\n#### 7. Test your class:\n#### &nbsp;Use the prices [100.5, 102.3, 99.8, 103.7, 101.2].\n#### &nbsp;Add each price, generate signals, execute trades, and print the summary.\n",
      "metadata": {}
    },
    {
      "id": "20bfbf80-25f6-4352-897c-6565055eff22",
      "cell_type": "code",
      "source": "class TradingStrategy:\n    def _init_(self, name):\n        self.name = name\n        self.prices = []\n        self.signals = []\n        self.trades = []\n        self.cash = 10000\n        self.shares = 0\n        self.trade_size = 10\n    def add_price(self, price):\n        self.prices.append(price)\n        self.generate_signal()\n\n    def generate_signal(self):\n        if len(self.prices) < 2:\n            self.signals.append(\"Hold\")\n        else:\n            prev_price = self.prices[-2]\n            current_price = self.prices[-1]\n            if current_price > prev_price * 1.02:  # More than 2% increase\n                self.signals.append(\"Buy\")\n            elif current_price < prev_price * 0.98:  # More than 2% decrease\n                self.signals.append(\"Sell\")\n            else:\n                self.signals.append(\"Hold\")\n\n        self.execute_trade()\n\n     def execute_trade(self):\n            last_signal = self.signals[-1]\n            last_price = self.prices[-1]\n         \n            if last_signal == \"Buy\":\n                 cost = last_price * self.trade_size\n            if self.cash >= cost:\n                self.cash -= cost\n                self.shares += self.trade_size\n                self.trades.append((last_price, \"Buy\", self.trade_size))\n        elif last_signal == \"Sell\":\n\n            if self.shares > 0:\n                sell_value = last_price * self.shares\n                self.cash += sell_value\n                self.trades.append((last_price, \"Sell\", self.shares))\n                self.shares = 0\n\n          def get_portfolio_value(self):\n        if self.prices:\n            return self.cash + (self.shares * self.prices[-1])  # Cash + shares' value\n        else:\n            return self.cash\n\n      def summary(self):\n        print(\"\\n--- Trading Strategy Summary ---\")\n        print(f\"Strategy Name: {self.name}\")\n        print(f\"Trading Signals: {self.signals}\")\n        print(f\"Trades Executed: {self.trades}\")\n        print(f\"Final Cash: ${self.cash:.2f}\")\n        print(f\"Shares Owned: {self.shares}\")\n        print(f\"Total Portfolio Value: ${self.get_portfolio_value():.2f}\")\n\nstock_prices = [100.5, 102.3, 99.8, 103.7, 101.2]\n",
      "metadata": {
        "trusted": true
      },
      "outputs": [],
      "execution_count": null
    },
    {
      "id": "0a1b58a7-f803-4f21-b0c7-af49610fc819",
      "cell_type": "markdown",
      "source": "### Expected Output Example\n\n#### Momentum Strategy Summary:\n#### Signals: ['Hold','Sell','Buy','Sell'] \n#### Trades: [(99.8, 'Sell', 0), (103.7, 'Buy', 10), (101.2, 'Sell', 10)]\n#### Final Cash: 9975.0\n#### Shares Owned: 0\n#### Total Portfolio Value: $9975.0",
      "metadata": {}
    }
  ]
}